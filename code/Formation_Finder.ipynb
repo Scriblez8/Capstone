{
 "cells": [
  {
   "cell_type": "markdown",
   "metadata": {},
   "source": [
    "# Imports"
   ]
  },
  {
   "cell_type": "code",
   "execution_count": 1,
   "metadata": {},
   "outputs": [],
   "source": [
    "import pandas as pd\n",
    "import numpy as np\n",
    "import seaborn as sns\n",
    "from sklearn.preprocessing import StandardScaler\n",
    "from sklearn.cluster import KMeans\n",
    "from sklearn.metrics import silhouette_score\n",
    "from sklearn.model_selection import train_test_split\n",
    "from sklearn.ensemble import RandomForestClassifier\n",
    "from sklearn.neighbors import KNeighborsClassifier\n",
    "from sklearn.metrics import plot_confusion_matrix"
   ]
  },
  {
   "cell_type": "code",
   "execution_count": 2,
   "metadata": {},
   "outputs": [],
   "source": [
    "type_log = pd.read_csv('../data/type_log.csv')"
   ]
  },
  {
   "cell_type": "markdown",
   "metadata": {},
   "source": [
    "# Background"
   ]
  },
  {
   "cell_type": "markdown",
   "metadata": {},
   "source": [
    "### How do drilling rigs work from a Geologist's point of view?"
   ]
  },
  {
   "cell_type": "markdown",
   "metadata": {},
   "source": [
    "The tool that measures gamma radiation is a common piece of the bottom hole assembly along with a motor and drilling bit.  As the rig drills through the rock, the gamma ray tool collects data from the rocks, which helps geologists identify their position.  The rig drills rock a couple of different ways.  The first is by using a mechanical drill bit with diamond teeth that turns and cuts through the rock, much like you use a hand drill to cut through wood.  The second way is like a power washer.  There are holes in the drilling bit that shoot mud forward that actually does the majority of the drilling.  The drilling mud is one of the most important parts of the whole operation.  Like I said, it helps actually drill the hole, it also has numerous properties that are constantly checked.  These properties keep the mud a certain weight and viscosity which holds dangerous gas in the hole.  If the mud doesn't have the correct properties, the gas can literally flow out of the hole and explode or burn a drilling rig down within minutes.  The third reason for drilling mud is it carries the rocks that we are drilling to the surface and cleans the hole.  The geologist on site examines these rocks to also judge position along with oil content etc.  The fourth and most important reason for the mud these days is it helps the people who run the gamma ray tool to send signals to the surface.  There is a small piston in the tool that displaces the mud, sending morse code like signals to a computer on the surface that collects these signals and translates them for our normal work computers to interpret.  The second geologist looks at these graphs and compares them with other gamma ray data in the area to judge their position in the stratigraphic column.  The geologist on site and the one examining the gamma ray logs stay in constant communication, making sure they are drilling where they are supposed to for the most efficient and productive wells possible."
   ]
  },
  {
   "cell_type": "markdown",
   "metadata": {},
   "source": [
    "### What is Gamma Ray?"
   ]
  },
  {
   "cell_type": "markdown",
   "metadata": {},
   "source": [
    "Different types of rock emit different amounts and different spectra of natural gamma radiation.  In particular, shales usually emit more gamma rays than other sedimentary rocks, such as sandstone, gypsum, salt, coal, dolomite, or limestone.  This is because radioactive potassium is a common component in their clay content, and because the cation exchange capacity of clay causes them to absorb uranium and thorium."
   ]
  },
  {
   "cell_type": "markdown",
   "metadata": {},
   "source": [
    "### What is Density Porosity?"
   ]
  },
  {
   "cell_type": "markdown",
   "metadata": {},
   "source": [
    "Porosity is the ratio of pore volume to its total volume. Porosity is controlled by rock type, pore distribution, cementation, diagenetic history and composition. Porosity is not controlled by grain size, as the volume of between-grain space is related only to the method of grain packing.  \n",
    "\n",
    "So why is this porosity important?  Well, when we are looking for potential reservoirs for oil and gas the pore space is what we are looking for.  Not only is it important that there is a large amount of space between the grains of the rock, but we want the pore space to be connected ideally.  This allows the fluids and gases to migrate through the rock.  But think about it...  Migration can be bad also.  What if the fluid migrates away from your bore hole?  This is why most oil/gas fields have what is called a cap rock on top of the very porous rock.  A cap rock is a rock with no porosity which traps the fluids and gas in the reservoir.  And this all works for one more important reason.  Oil and gas are less dense than water, so if they are present, they are forced above the water and end up getting stuck up against the cap rock.  If the surrounding reservoir is very porous it will allow more oil and gas to migrate into that \"trap\".\n",
    "\n",
    "My favorite way of visualizing porosity is, imagine filling a five gallon bucket up with golf balls.  The space around the golf balls is your porosity.  If you look close enough at a sandstone for example, you will see it is very similar in structure to the golf ball example.  "
   ]
  },
  {
   "cell_type": "markdown",
   "metadata": {},
   "source": [
    "### What is Resistivity?"
   ]
  },
  {
   "cell_type": "markdown",
   "metadata": {},
   "source": [
    "Resistivity logging is a method of well logging that works by characterizing the rock or sediment in a borehole by measuring its electrical resistivity. Resistivity is a fundamental material property which represents how strongly a material opposes the flow of electric current. In these logs, resistivity is measured using four electrical probes to eliminate the resistance of the contact leads. The log must run in holes containing electrically conductive mud or water, i.e., with enough ions present in the drilling fluid.\n",
    "\n",
    "Resistivity is one of the most important tools we use especially for exploratory drilling.  Since it uses electrical current, we can see the difference between water and oil.  The electrical current flows through the very different substances based on the amount of ions present.  So, after you go through all the trouble of drilling this very very expensive hole in the ground you can tell if it is just filled with water or there is actually some oil down there!  \n",
    "\n",
    "Most of use daydreamed through Chemistry in high school or college.  But I can almost guarantee that you did an experiment where you dumped a bunch of salt into water and then measured the electrical current of both and recorded the difference.  This experiment shows that the water with salt conducts electricity much better because of the presence of the NaCl ions.  This the same reason why pools are so dangerous in a lightning storm, because if the pool was struck, it would conduct electricity very very well.  And actually, contrary to belief you are relatively safe in a river for example because of the low amount of ions present. "
   ]
  },
  {
   "cell_type": "markdown",
   "metadata": {},
   "source": [
    "# Problem Statement"
   ]
  },
  {
   "cell_type": "markdown",
   "metadata": {},
   "source": [
    "I want to build a multiclass classification model (Decision Tree, KNN) that will input a geologic type log and be able to pick the desired geologic formation tops and return the values to the user."
   ]
  },
  {
   "cell_type": "markdown",
   "metadata": {},
   "source": [
    "# Executive Summary"
   ]
  },
  {
   "cell_type": "markdown",
   "metadata": {},
   "source": [
    "The purpose of this project is to predict geologic formations through modeling. Data was cleaned and null values removed.  Three variables were selected based on their importance to the potential clientele, Gamma Ray, Density Porosity and Resistivity.  I tried to use k-means to build an unsupervised model, but it was unable to cluster and classify the geologic data effectively.  So, I used my domain knowledge to turn it into a supervised learning model instead.  I went through and picked each geologic top and gave them a numeric value so the model could train itself effectively.  Modeling commenced with KNN and Random Forest Classifier. Random Forest Classifier was chosen as the production model because of its near perfect results on the test data."
   ]
  },
  {
   "cell_type": "markdown",
   "metadata": {},
   "source": [
    "# EDA"
   ]
  },
  {
   "cell_type": "markdown",
   "metadata": {},
   "source": [
    "Below is an example of what EDA I would normally do to clean up the data so I can use it for my project.  The files originally come from the well site in a format called LAS, and I already knew how to reformat them in Microsoft Excel.  I decided to just clean the data quickly in Excel while changing the format simultanously."
   ]
  },
  {
   "cell_type": "code",
   "execution_count": 3,
   "metadata": {
    "scrolled": false
   },
   "outputs": [
    {
     "data": {
      "text/html": [
       "<div>\n",
       "<style scoped>\n",
       "    .dataframe tbody tr th:only-of-type {\n",
       "        vertical-align: middle;\n",
       "    }\n",
       "\n",
       "    .dataframe tbody tr th {\n",
       "        vertical-align: top;\n",
       "    }\n",
       "\n",
       "    .dataframe thead th {\n",
       "        text-align: right;\n",
       "    }\n",
       "</style>\n",
       "<table border=\"1\" class=\"dataframe\">\n",
       "  <thead>\n",
       "    <tr style=\"text-align: right;\">\n",
       "      <th></th>\n",
       "      <th>DEPT</th>\n",
       "      <th>NPHI</th>\n",
       "      <th>GR</th>\n",
       "      <th>TENS</th>\n",
       "      <th>GRTH</th>\n",
       "      <th>LLS</th>\n",
       "      <th>LLD</th>\n",
       "      <th>MSFL</th>\n",
       "      <th>CALI</th>\n",
       "      <th>CAL1</th>\n",
       "      <th>RHOB</th>\n",
       "      <th>DRHO</th>\n",
       "      <th>PE</th>\n",
       "      <th>DPHI</th>\n",
       "      <th>MDT</th>\n",
       "      <th>SPHI</th>\n",
       "      <th>ITTI</th>\n",
       "      <th>ITTT</th>\n",
       "      <th>XPHI</th>\n",
       "    </tr>\n",
       "  </thead>\n",
       "  <tbody>\n",
       "    <tr>\n",
       "      <th>0</th>\n",
       "      <td>NaN</td>\n",
       "      <td>NaN</td>\n",
       "      <td>NaN</td>\n",
       "      <td>NaN</td>\n",
       "      <td>NaN</td>\n",
       "      <td>NaN</td>\n",
       "      <td>NaN</td>\n",
       "      <td>NaN</td>\n",
       "      <td>NaN</td>\n",
       "      <td>NaN</td>\n",
       "      <td>NaN</td>\n",
       "      <td>NaN</td>\n",
       "      <td>NaN</td>\n",
       "      <td>NaN</td>\n",
       "      <td>NaN</td>\n",
       "      <td>NaN</td>\n",
       "      <td>NaN</td>\n",
       "      <td>NaN</td>\n",
       "      <td>NaN</td>\n",
       "    </tr>\n",
       "    <tr>\n",
       "      <th>1</th>\n",
       "      <td>0.3733</td>\n",
       "      <td>-999.2500</td>\n",
       "      <td>-999.2500</td>\n",
       "      <td>-999.2500</td>\n",
       "      <td>-999.2500</td>\n",
       "      <td>-999.2500</td>\n",
       "      <td>-999.2500</td>\n",
       "      <td>-999.2500</td>\n",
       "      <td>-999.2500</td>\n",
       "      <td>-999.2500</td>\n",
       "      <td>-999.2500</td>\n",
       "      <td>-999.2500</td>\n",
       "      <td>-999.2500</td>\n",
       "      <td>-999.2500</td>\n",
       "      <td>-999.2500</td>\n",
       "      <td>-999.2500</td>\n",
       "      <td>-999.2500</td>\n",
       "      <td>-999.2500</td>\n",
       "      <td>-999.2500</td>\n",
       "    </tr>\n",
       "    <tr>\n",
       "      <th>2</th>\n",
       "      <td>0.8733</td>\n",
       "      <td>-999.2500</td>\n",
       "      <td>-999.2500</td>\n",
       "      <td>-999.2500</td>\n",
       "      <td>-999.2500</td>\n",
       "      <td>-999.2500</td>\n",
       "      <td>-999.2500</td>\n",
       "      <td>-999.2500</td>\n",
       "      <td>-999.2500</td>\n",
       "      <td>-999.2500</td>\n",
       "      <td>-999.2500</td>\n",
       "      <td>-999.2500</td>\n",
       "      <td>-999.2500</td>\n",
       "      <td>-999.2500</td>\n",
       "      <td>-999.2500</td>\n",
       "      <td>-999.2500</td>\n",
       "      <td>-999.2500</td>\n",
       "      <td>-999.2500</td>\n",
       "      <td>-999.2500</td>\n",
       "    </tr>\n",
       "    <tr>\n",
       "      <th>3</th>\n",
       "      <td>1.3733</td>\n",
       "      <td>-999.2500</td>\n",
       "      <td>-999.2500</td>\n",
       "      <td>-999.2500</td>\n",
       "      <td>-999.2500</td>\n",
       "      <td>-999.2500</td>\n",
       "      <td>-999.2500</td>\n",
       "      <td>-999.2500</td>\n",
       "      <td>-999.2500</td>\n",
       "      <td>-999.2500</td>\n",
       "      <td>-999.2500</td>\n",
       "      <td>-999.2500</td>\n",
       "      <td>-999.2500</td>\n",
       "      <td>-999.2500</td>\n",
       "      <td>-999.2500</td>\n",
       "      <td>-999.2500</td>\n",
       "      <td>-999.2500</td>\n",
       "      <td>-999.2500</td>\n",
       "      <td>-999.2500</td>\n",
       "    </tr>\n",
       "    <tr>\n",
       "      <th>4</th>\n",
       "      <td>1.8733</td>\n",
       "      <td>-999.2500</td>\n",
       "      <td>-999.2500</td>\n",
       "      <td>-999.2500</td>\n",
       "      <td>-999.2500</td>\n",
       "      <td>-999.2500</td>\n",
       "      <td>-999.2500</td>\n",
       "      <td>-999.2500</td>\n",
       "      <td>-999.2500</td>\n",
       "      <td>-999.2500</td>\n",
       "      <td>-999.2500</td>\n",
       "      <td>-999.2500</td>\n",
       "      <td>-999.2500</td>\n",
       "      <td>-999.2500</td>\n",
       "      <td>-999.2500</td>\n",
       "      <td>-999.2500</td>\n",
       "      <td>-999.2500</td>\n",
       "      <td>-999.2500</td>\n",
       "      <td>-999.2500</td>\n",
       "    </tr>\n",
       "    <tr>\n",
       "      <th>...</th>\n",
       "      <td>...</td>\n",
       "      <td>...</td>\n",
       "      <td>...</td>\n",
       "      <td>...</td>\n",
       "      <td>...</td>\n",
       "      <td>...</td>\n",
       "      <td>...</td>\n",
       "      <td>...</td>\n",
       "      <td>...</td>\n",
       "      <td>...</td>\n",
       "      <td>...</td>\n",
       "      <td>...</td>\n",
       "      <td>...</td>\n",
       "      <td>...</td>\n",
       "      <td>...</td>\n",
       "      <td>...</td>\n",
       "      <td>...</td>\n",
       "      <td>...</td>\n",
       "      <td>...</td>\n",
       "    </tr>\n",
       "    <tr>\n",
       "      <th>9995</th>\n",
       "      <td>4997.3733</td>\n",
       "      <td>0.0700</td>\n",
       "      <td>66.5357</td>\n",
       "      <td>4219.8101</td>\n",
       "      <td>15.5603</td>\n",
       "      <td>79.3923</td>\n",
       "      <td>87.5616</td>\n",
       "      <td>44.6094</td>\n",
       "      <td>9.2109</td>\n",
       "      <td>8.8883</td>\n",
       "      <td>2.6068</td>\n",
       "      <td>0.0112</td>\n",
       "      <td>2.7031</td>\n",
       "      <td>0.0641</td>\n",
       "      <td>61.3558</td>\n",
       "      <td>0.1001</td>\n",
       "      <td>30.6779</td>\n",
       "      <td>390749.3438</td>\n",
       "      <td>0.0719</td>\n",
       "    </tr>\n",
       "    <tr>\n",
       "      <th>9996</th>\n",
       "      <td>4997.8733</td>\n",
       "      <td>0.0617</td>\n",
       "      <td>62.5368</td>\n",
       "      <td>4301.5542</td>\n",
       "      <td>17.4984</td>\n",
       "      <td>72.8831</td>\n",
       "      <td>75.5762</td>\n",
       "      <td>54.9272</td>\n",
       "      <td>9.1378</td>\n",
       "      <td>8.8931</td>\n",
       "      <td>2.5988</td>\n",
       "      <td>0.0068</td>\n",
       "      <td>2.6839</td>\n",
       "      <td>0.0691</td>\n",
       "      <td>61.2389</td>\n",
       "      <td>0.0993</td>\n",
       "      <td>61.2389</td>\n",
       "      <td>390718.6563</td>\n",
       "      <td>0.0682</td>\n",
       "    </tr>\n",
       "    <tr>\n",
       "      <th>9997</th>\n",
       "      <td>4998.3733</td>\n",
       "      <td>0.0710</td>\n",
       "      <td>70.0908</td>\n",
       "      <td>4191.8403</td>\n",
       "      <td>23.4621</td>\n",
       "      <td>57.9067</td>\n",
       "      <td>61.4559</td>\n",
       "      <td>35.6144</td>\n",
       "      <td>9.1386</td>\n",
       "      <td>8.9059</td>\n",
       "      <td>2.5736</td>\n",
       "      <td>0.0017</td>\n",
       "      <td>2.6172</td>\n",
       "      <td>0.0847</td>\n",
       "      <td>61.8355</td>\n",
       "      <td>0.1036</td>\n",
       "      <td>30.9177</td>\n",
       "      <td>390657.4063</td>\n",
       "      <td>0.0800</td>\n",
       "    </tr>\n",
       "    <tr>\n",
       "      <th>9998</th>\n",
       "      <td>4998.8733</td>\n",
       "      <td>0.0846</td>\n",
       "      <td>82.3271</td>\n",
       "      <td>4147.4614</td>\n",
       "      <td>29.9231</td>\n",
       "      <td>47.9719</td>\n",
       "      <td>55.0196</td>\n",
       "      <td>22.5361</td>\n",
       "      <td>9.1776</td>\n",
       "      <td>8.9010</td>\n",
       "      <td>2.5374</td>\n",
       "      <td>-0.0018</td>\n",
       "      <td>2.5662</td>\n",
       "      <td>0.1072</td>\n",
       "      <td>61.8355</td>\n",
       "      <td>0.1036</td>\n",
       "      <td>30.9177</td>\n",
       "      <td>390657.4063</td>\n",
       "      <td>0.0974</td>\n",
       "    </tr>\n",
       "    <tr>\n",
       "      <th>9999</th>\n",
       "      <td>4999.3733</td>\n",
       "      <td>0.1141</td>\n",
       "      <td>96.1897</td>\n",
       "      <td>4123.6060</td>\n",
       "      <td>35.5642</td>\n",
       "      <td>42.4495</td>\n",
       "      <td>53.6362</td>\n",
       "      <td>22.3949</td>\n",
       "      <td>9.2491</td>\n",
       "      <td>8.9084</td>\n",
       "      <td>2.5259</td>\n",
       "      <td>-0.0035</td>\n",
       "      <td>2.5811</td>\n",
       "      <td>0.1144</td>\n",
       "      <td>63.0573</td>\n",
       "      <td>0.1125</td>\n",
       "      <td>31.5286</td>\n",
       "      <td>390626.5000</td>\n",
       "      <td>0.1185</td>\n",
       "    </tr>\n",
       "  </tbody>\n",
       "</table>\n",
       "<p>10000 rows × 19 columns</p>\n",
       "</div>"
      ],
      "text/plain": [
       "           DEPT      NPHI        GR       TENS      GRTH       LLS       LLD  \\\n",
       "0           NaN       NaN       NaN        NaN       NaN       NaN       NaN   \n",
       "1        0.3733 -999.2500 -999.2500  -999.2500 -999.2500 -999.2500 -999.2500   \n",
       "2        0.8733 -999.2500 -999.2500  -999.2500 -999.2500 -999.2500 -999.2500   \n",
       "3        1.3733 -999.2500 -999.2500  -999.2500 -999.2500 -999.2500 -999.2500   \n",
       "4        1.8733 -999.2500 -999.2500  -999.2500 -999.2500 -999.2500 -999.2500   \n",
       "...         ...       ...       ...        ...       ...       ...       ...   \n",
       "9995  4997.3733    0.0700   66.5357  4219.8101   15.5603   79.3923   87.5616   \n",
       "9996  4997.8733    0.0617   62.5368  4301.5542   17.4984   72.8831   75.5762   \n",
       "9997  4998.3733    0.0710   70.0908  4191.8403   23.4621   57.9067   61.4559   \n",
       "9998  4998.8733    0.0846   82.3271  4147.4614   29.9231   47.9719   55.0196   \n",
       "9999  4999.3733    0.1141   96.1897  4123.6060   35.5642   42.4495   53.6362   \n",
       "\n",
       "          MSFL      CALI      CAL1      RHOB      DRHO        PE      DPHI  \\\n",
       "0          NaN       NaN       NaN       NaN       NaN       NaN       NaN   \n",
       "1    -999.2500 -999.2500 -999.2500 -999.2500 -999.2500 -999.2500 -999.2500   \n",
       "2    -999.2500 -999.2500 -999.2500 -999.2500 -999.2500 -999.2500 -999.2500   \n",
       "3    -999.2500 -999.2500 -999.2500 -999.2500 -999.2500 -999.2500 -999.2500   \n",
       "4    -999.2500 -999.2500 -999.2500 -999.2500 -999.2500 -999.2500 -999.2500   \n",
       "...        ...       ...       ...       ...       ...       ...       ...   \n",
       "9995   44.6094    9.2109    8.8883    2.6068    0.0112    2.7031    0.0641   \n",
       "9996   54.9272    9.1378    8.8931    2.5988    0.0068    2.6839    0.0691   \n",
       "9997   35.6144    9.1386    8.9059    2.5736    0.0017    2.6172    0.0847   \n",
       "9998   22.5361    9.1776    8.9010    2.5374   -0.0018    2.5662    0.1072   \n",
       "9999   22.3949    9.2491    8.9084    2.5259   -0.0035    2.5811    0.1144   \n",
       "\n",
       "           MDT      SPHI      ITTI         ITTT      XPHI  \n",
       "0          NaN       NaN       NaN          NaN       NaN  \n",
       "1    -999.2500 -999.2500 -999.2500    -999.2500 -999.2500  \n",
       "2    -999.2500 -999.2500 -999.2500    -999.2500 -999.2500  \n",
       "3    -999.2500 -999.2500 -999.2500    -999.2500 -999.2500  \n",
       "4    -999.2500 -999.2500 -999.2500    -999.2500 -999.2500  \n",
       "...        ...       ...       ...          ...       ...  \n",
       "9995   61.3558    0.1001   30.6779  390749.3438    0.0719  \n",
       "9996   61.2389    0.0993   61.2389  390718.6563    0.0682  \n",
       "9997   61.8355    0.1036   30.9177  390657.4063    0.0800  \n",
       "9998   61.8355    0.1036   30.9177  390657.4063    0.0974  \n",
       "9999   63.0573    0.1125   31.5286  390626.5000    0.1185  \n",
       "\n",
       "[10000 rows x 19 columns]"
      ]
     },
     "execution_count": 3,
     "metadata": {},
     "output_type": "execute_result"
    }
   ],
   "source": [
    "type_log.head(10_000)"
   ]
  },
  {
   "cell_type": "code",
   "execution_count": 4,
   "metadata": {},
   "outputs": [
    {
     "data": {
      "text/plain": [
       "(21050, 19)"
      ]
     },
     "execution_count": 4,
     "metadata": {},
     "output_type": "execute_result"
    }
   ],
   "source": [
    "type_log.shape"
   ]
  },
  {
   "cell_type": "code",
   "execution_count": 5,
   "metadata": {},
   "outputs": [
    {
     "data": {
      "text/plain": [
       "DEPT    float64\n",
       "NPHI    float64\n",
       "GR      float64\n",
       "TENS    float64\n",
       "GRTH    float64\n",
       "LLS     float64\n",
       "LLD     float64\n",
       "MSFL    float64\n",
       "CALI    float64\n",
       "CAL1    float64\n",
       "RHOB    float64\n",
       "DRHO    float64\n",
       "PE      float64\n",
       "DPHI    float64\n",
       "MDT     float64\n",
       "SPHI    float64\n",
       "ITTI    float64\n",
       "ITTT    float64\n",
       "XPHI    float64\n",
       "dtype: object"
      ]
     },
     "execution_count": 5,
     "metadata": {},
     "output_type": "execute_result"
    }
   ],
   "source": [
    "type_log.dtypes"
   ]
  },
  {
   "cell_type": "code",
   "execution_count": 6,
   "metadata": {},
   "outputs": [],
   "source": [
    "type_log = type_log.dropna(how = 'all')"
   ]
  },
  {
   "cell_type": "code",
   "execution_count": 7,
   "metadata": {},
   "outputs": [],
   "source": [
    "type_log.drop(type_log[type_log['GR'] < 0].index, inplace = True)"
   ]
  },
  {
   "cell_type": "code",
   "execution_count": 8,
   "metadata": {},
   "outputs": [
    {
     "data": {
      "text/html": [
       "<div>\n",
       "<style scoped>\n",
       "    .dataframe tbody tr th:only-of-type {\n",
       "        vertical-align: middle;\n",
       "    }\n",
       "\n",
       "    .dataframe tbody tr th {\n",
       "        vertical-align: top;\n",
       "    }\n",
       "\n",
       "    .dataframe thead th {\n",
       "        text-align: right;\n",
       "    }\n",
       "</style>\n",
       "<table border=\"1\" class=\"dataframe\">\n",
       "  <thead>\n",
       "    <tr style=\"text-align: right;\">\n",
       "      <th></th>\n",
       "      <th>DEPT</th>\n",
       "      <th>NPHI</th>\n",
       "      <th>GR</th>\n",
       "      <th>TENS</th>\n",
       "      <th>GRTH</th>\n",
       "      <th>LLS</th>\n",
       "      <th>LLD</th>\n",
       "      <th>MSFL</th>\n",
       "      <th>CALI</th>\n",
       "      <th>CAL1</th>\n",
       "      <th>RHOB</th>\n",
       "      <th>DRHO</th>\n",
       "      <th>PE</th>\n",
       "      <th>DPHI</th>\n",
       "      <th>MDT</th>\n",
       "      <th>SPHI</th>\n",
       "      <th>ITTI</th>\n",
       "      <th>ITTT</th>\n",
       "      <th>XPHI</th>\n",
       "    </tr>\n",
       "  </thead>\n",
       "  <tbody>\n",
       "    <tr>\n",
       "      <th>200</th>\n",
       "      <td>99.8733</td>\n",
       "      <td>0.4530</td>\n",
       "      <td>40.1618</td>\n",
       "      <td>-999.25</td>\n",
       "      <td>-999.25</td>\n",
       "      <td>-999.25</td>\n",
       "      <td>-999.25</td>\n",
       "      <td>-999.25</td>\n",
       "      <td>-999.25</td>\n",
       "      <td>-999.25</td>\n",
       "      <td>-999.25</td>\n",
       "      <td>-999.25</td>\n",
       "      <td>-999.25</td>\n",
       "      <td>-999.25</td>\n",
       "      <td>-999.25</td>\n",
       "      <td>-999.25</td>\n",
       "      <td>-999.25</td>\n",
       "      <td>-999.25</td>\n",
       "      <td>-999.25</td>\n",
       "    </tr>\n",
       "    <tr>\n",
       "      <th>201</th>\n",
       "      <td>100.3733</td>\n",
       "      <td>0.5271</td>\n",
       "      <td>42.1417</td>\n",
       "      <td>-999.25</td>\n",
       "      <td>-999.25</td>\n",
       "      <td>-999.25</td>\n",
       "      <td>-999.25</td>\n",
       "      <td>-999.25</td>\n",
       "      <td>-999.25</td>\n",
       "      <td>-999.25</td>\n",
       "      <td>-999.25</td>\n",
       "      <td>-999.25</td>\n",
       "      <td>-999.25</td>\n",
       "      <td>-999.25</td>\n",
       "      <td>-999.25</td>\n",
       "      <td>-999.25</td>\n",
       "      <td>-999.25</td>\n",
       "      <td>-999.25</td>\n",
       "      <td>-999.25</td>\n",
       "    </tr>\n",
       "    <tr>\n",
       "      <th>202</th>\n",
       "      <td>100.8733</td>\n",
       "      <td>0.4311</td>\n",
       "      <td>38.1820</td>\n",
       "      <td>-999.25</td>\n",
       "      <td>-999.25</td>\n",
       "      <td>-999.25</td>\n",
       "      <td>-999.25</td>\n",
       "      <td>-999.25</td>\n",
       "      <td>-999.25</td>\n",
       "      <td>-999.25</td>\n",
       "      <td>-999.25</td>\n",
       "      <td>-999.25</td>\n",
       "      <td>-999.25</td>\n",
       "      <td>-999.25</td>\n",
       "      <td>-999.25</td>\n",
       "      <td>-999.25</td>\n",
       "      <td>-999.25</td>\n",
       "      <td>-999.25</td>\n",
       "      <td>-999.25</td>\n",
       "    </tr>\n",
       "    <tr>\n",
       "      <th>203</th>\n",
       "      <td>101.3733</td>\n",
       "      <td>0.4813</td>\n",
       "      <td>35.9287</td>\n",
       "      <td>-999.25</td>\n",
       "      <td>-999.25</td>\n",
       "      <td>-999.25</td>\n",
       "      <td>-999.25</td>\n",
       "      <td>-999.25</td>\n",
       "      <td>-999.25</td>\n",
       "      <td>-999.25</td>\n",
       "      <td>-999.25</td>\n",
       "      <td>-999.25</td>\n",
       "      <td>-999.25</td>\n",
       "      <td>-999.25</td>\n",
       "      <td>-999.25</td>\n",
       "      <td>-999.25</td>\n",
       "      <td>-999.25</td>\n",
       "      <td>-999.25</td>\n",
       "      <td>-999.25</td>\n",
       "    </tr>\n",
       "    <tr>\n",
       "      <th>204</th>\n",
       "      <td>101.8733</td>\n",
       "      <td>0.5825</td>\n",
       "      <td>36.8431</td>\n",
       "      <td>-999.25</td>\n",
       "      <td>-999.25</td>\n",
       "      <td>-999.25</td>\n",
       "      <td>-999.25</td>\n",
       "      <td>-999.25</td>\n",
       "      <td>-999.25</td>\n",
       "      <td>-999.25</td>\n",
       "      <td>-999.25</td>\n",
       "      <td>-999.25</td>\n",
       "      <td>-999.25</td>\n",
       "      <td>-999.25</td>\n",
       "      <td>-999.25</td>\n",
       "      <td>-999.25</td>\n",
       "      <td>-999.25</td>\n",
       "      <td>-999.25</td>\n",
       "      <td>-999.25</td>\n",
       "    </tr>\n",
       "  </tbody>\n",
       "</table>\n",
       "</div>"
      ],
      "text/plain": [
       "         DEPT    NPHI       GR    TENS    GRTH     LLS     LLD    MSFL  \\\n",
       "200   99.8733  0.4530  40.1618 -999.25 -999.25 -999.25 -999.25 -999.25   \n",
       "201  100.3733  0.5271  42.1417 -999.25 -999.25 -999.25 -999.25 -999.25   \n",
       "202  100.8733  0.4311  38.1820 -999.25 -999.25 -999.25 -999.25 -999.25   \n",
       "203  101.3733  0.4813  35.9287 -999.25 -999.25 -999.25 -999.25 -999.25   \n",
       "204  101.8733  0.5825  36.8431 -999.25 -999.25 -999.25 -999.25 -999.25   \n",
       "\n",
       "       CALI    CAL1    RHOB    DRHO      PE    DPHI     MDT    SPHI    ITTI  \\\n",
       "200 -999.25 -999.25 -999.25 -999.25 -999.25 -999.25 -999.25 -999.25 -999.25   \n",
       "201 -999.25 -999.25 -999.25 -999.25 -999.25 -999.25 -999.25 -999.25 -999.25   \n",
       "202 -999.25 -999.25 -999.25 -999.25 -999.25 -999.25 -999.25 -999.25 -999.25   \n",
       "203 -999.25 -999.25 -999.25 -999.25 -999.25 -999.25 -999.25 -999.25 -999.25   \n",
       "204 -999.25 -999.25 -999.25 -999.25 -999.25 -999.25 -999.25 -999.25 -999.25   \n",
       "\n",
       "       ITTT    XPHI  \n",
       "200 -999.25 -999.25  \n",
       "201 -999.25 -999.25  \n",
       "202 -999.25 -999.25  \n",
       "203 -999.25 -999.25  \n",
       "204 -999.25 -999.25  "
      ]
     },
     "execution_count": 8,
     "metadata": {},
     "output_type": "execute_result"
    }
   ],
   "source": [
    "type_log.head()"
   ]
  },
  {
   "cell_type": "code",
   "execution_count": 9,
   "metadata": {},
   "outputs": [],
   "source": [
    "type_log.drop(columns=['NPHI', 'TENS', 'GRTH', 'LLS', 'LLD', 'MSFL', 'CALI', 'CAL1', 'RHOB', 'DRHO', 'PE', 'DPHI', 'MDT', 'SPHI', 'ITTI', 'ITTT', 'XPHI'], inplace=True)"
   ]
  },
  {
   "cell_type": "code",
   "execution_count": 10,
   "metadata": {},
   "outputs": [
    {
     "data": {
      "text/html": [
       "<div>\n",
       "<style scoped>\n",
       "    .dataframe tbody tr th:only-of-type {\n",
       "        vertical-align: middle;\n",
       "    }\n",
       "\n",
       "    .dataframe tbody tr th {\n",
       "        vertical-align: top;\n",
       "    }\n",
       "\n",
       "    .dataframe thead th {\n",
       "        text-align: right;\n",
       "    }\n",
       "</style>\n",
       "<table border=\"1\" class=\"dataframe\">\n",
       "  <thead>\n",
       "    <tr style=\"text-align: right;\">\n",
       "      <th></th>\n",
       "      <th>DEPT</th>\n",
       "      <th>GR</th>\n",
       "    </tr>\n",
       "  </thead>\n",
       "  <tbody>\n",
       "    <tr>\n",
       "      <th>200</th>\n",
       "      <td>99.8733</td>\n",
       "      <td>40.1618</td>\n",
       "    </tr>\n",
       "    <tr>\n",
       "      <th>201</th>\n",
       "      <td>100.3733</td>\n",
       "      <td>42.1417</td>\n",
       "    </tr>\n",
       "    <tr>\n",
       "      <th>202</th>\n",
       "      <td>100.8733</td>\n",
       "      <td>38.1820</td>\n",
       "    </tr>\n",
       "    <tr>\n",
       "      <th>203</th>\n",
       "      <td>101.3733</td>\n",
       "      <td>35.9287</td>\n",
       "    </tr>\n",
       "    <tr>\n",
       "      <th>204</th>\n",
       "      <td>101.8733</td>\n",
       "      <td>36.8431</td>\n",
       "    </tr>\n",
       "  </tbody>\n",
       "</table>\n",
       "</div>"
      ],
      "text/plain": [
       "         DEPT       GR\n",
       "200   99.8733  40.1618\n",
       "201  100.3733  42.1417\n",
       "202  100.8733  38.1820\n",
       "203  101.3733  35.9287\n",
       "204  101.8733  36.8431"
      ]
     },
     "execution_count": 10,
     "metadata": {},
     "output_type": "execute_result"
    }
   ],
   "source": [
    "type_log.head()"
   ]
  },
  {
   "cell_type": "code",
   "execution_count": 11,
   "metadata": {},
   "outputs": [
    {
     "data": {
      "text/plain": [
       "(20575, 2)"
      ]
     },
     "execution_count": 11,
     "metadata": {},
     "output_type": "execute_result"
    }
   ],
   "source": [
    "type_log.shape"
   ]
  },
  {
   "cell_type": "markdown",
   "metadata": {},
   "source": [
    "# Modeling"
   ]
  },
  {
   "cell_type": "code",
   "execution_count": 12,
   "metadata": {},
   "outputs": [],
   "source": [
    "X = type_log\n",
    "ss = StandardScaler().fit(X)\n",
    "X = ss.transform(X)"
   ]
  },
  {
   "cell_type": "code",
   "execution_count": 13,
   "metadata": {},
   "outputs": [
    {
     "data": {
      "text/plain": [
       "KMeans(n_clusters=4)"
      ]
     },
     "execution_count": 13,
     "metadata": {},
     "output_type": "execute_result"
    }
   ],
   "source": [
    "km = KMeans(n_clusters=4)\n",
    "km.fit(X)"
   ]
  },
  {
   "cell_type": "code",
   "execution_count": 14,
   "metadata": {},
   "outputs": [
    {
     "data": {
      "text/plain": [
       "array([1, 1, 1, ..., 3, 3, 3], dtype=int32)"
      ]
     },
     "execution_count": 14,
     "metadata": {},
     "output_type": "execute_result"
    }
   ],
   "source": [
    "km.labels_"
   ]
  },
  {
   "cell_type": "code",
   "execution_count": 15,
   "metadata": {},
   "outputs": [
    {
     "data": {
      "text/plain": [
       "0.5047974470343078"
      ]
     },
     "execution_count": 15,
     "metadata": {},
     "output_type": "execute_result"
    }
   ],
   "source": [
    "silhouette_score(X, km.labels_)"
   ]
  },
  {
   "cell_type": "code",
   "execution_count": 16,
   "metadata": {},
   "outputs": [],
   "source": [
    "type_log['type'] =  km.labels_"
   ]
  },
  {
   "cell_type": "code",
   "execution_count": 17,
   "metadata": {},
   "outputs": [
    {
     "data": {
      "image/png": "[encoded data removed]",
      "text/plain": [
       "<Figure size 432x288 with 1 Axes>"
      ]
     },
     "metadata": {
      "needs_background": "light"
     },
     "output_type": "display_data"
    }
   ],
   "source": [
    "sns.scatterplot(data=type_log, x='DEPT', y='GR', hue=km.labels_);"
   ]
  },
  {
   "cell_type": "markdown",
   "metadata": {},
   "source": [
    "I tried to use k-means to build an unsupervised model, but it was unable to cluster and classify the geologic data effectively. So, I used my domain knowledge to turn it into a supervised learning model instead. I went through and picked each geologic top and gave them a numeric value so the model could train itself effectively."
   ]
  },
  {
   "cell_type": "code",
   "execution_count": 18,
   "metadata": {},
   "outputs": [],
   "source": [
    "type_log = pd.read_csv('../data/Log_1_TC.csv')"
   ]
  },
  {
   "cell_type": "code",
   "execution_count": 19,
   "metadata": {
    "scrolled": true
   },
   "outputs": [
    {
     "data": {
      "text/html": [
       "<div>\n",
       "<style scoped>\n",
       "    .dataframe tbody tr th:only-of-type {\n",
       "        vertical-align: middle;\n",
       "    }\n",
       "\n",
       "    .dataframe tbody tr th {\n",
       "        vertical-align: top;\n",
       "    }\n",
       "\n",
       "    .dataframe thead th {\n",
       "        text-align: right;\n",
       "    }\n",
       "</style>\n",
       "<table border=\"1\" class=\"dataframe\">\n",
       "  <thead>\n",
       "    <tr style=\"text-align: right;\">\n",
       "      <th></th>\n",
       "      <th>DEPT</th>\n",
       "      <th>DPHI</th>\n",
       "      <th>GR</th>\n",
       "      <th>ILD</th>\n",
       "      <th>FORMATION</th>\n",
       "    </tr>\n",
       "  </thead>\n",
       "  <tbody>\n",
       "    <tr>\n",
       "      <th>0</th>\n",
       "      <td>4899.5</td>\n",
       "      <td>5.025</td>\n",
       "      <td>108.452</td>\n",
       "      <td>9.543</td>\n",
       "      <td>1</td>\n",
       "    </tr>\n",
       "    <tr>\n",
       "      <th>1</th>\n",
       "      <td>4900.0</td>\n",
       "      <td>4.945</td>\n",
       "      <td>104.012</td>\n",
       "      <td>10.139</td>\n",
       "      <td>1</td>\n",
       "    </tr>\n",
       "    <tr>\n",
       "      <th>2</th>\n",
       "      <td>4900.5</td>\n",
       "      <td>4.549</td>\n",
       "      <td>97.739</td>\n",
       "      <td>11.076</td>\n",
       "      <td>1</td>\n",
       "    </tr>\n",
       "    <tr>\n",
       "      <th>3</th>\n",
       "      <td>4901.0</td>\n",
       "      <td>4.311</td>\n",
       "      <td>93.312</td>\n",
       "      <td>11.531</td>\n",
       "      <td>1</td>\n",
       "    </tr>\n",
       "    <tr>\n",
       "      <th>4</th>\n",
       "      <td>4901.5</td>\n",
       "      <td>4.153</td>\n",
       "      <td>91.193</td>\n",
       "      <td>11.970</td>\n",
       "      <td>1</td>\n",
       "    </tr>\n",
       "  </tbody>\n",
       "</table>\n",
       "</div>"
      ],
      "text/plain": [
       "     DEPT   DPHI       GR     ILD  FORMATION\n",
       "0  4899.5  5.025  108.452   9.543          1\n",
       "1  4900.0  4.945  104.012  10.139          1\n",
       "2  4900.5  4.549   97.739  11.076          1\n",
       "3  4901.0  4.311   93.312  11.531          1\n",
       "4  4901.5  4.153   91.193  11.970          1"
      ]
     },
     "execution_count": 19,
     "metadata": {},
     "output_type": "execute_result"
    }
   ],
   "source": [
    "type_log.head()"
   ]
  },
  {
   "cell_type": "code",
   "execution_count": 20,
   "metadata": {},
   "outputs": [
    {
     "data": {
      "text/plain": [
       "DEPT         float64\n",
       "DPHI         float64\n",
       "GR           float64\n",
       "ILD          float64\n",
       "FORMATION      int64\n",
       "dtype: object"
      ]
     },
     "execution_count": 20,
     "metadata": {},
     "output_type": "execute_result"
    }
   ],
   "source": [
    "type_log.dtypes"
   ]
  },
  {
   "cell_type": "code",
   "execution_count": 21,
   "metadata": {},
   "outputs": [
    {
     "data": {
      "image/png": "[encoded data removed]",
      "text/plain": [
       "<Figure size 432x288 with 1 Axes>"
      ]
     },
     "metadata": {
      "needs_background": "light"
     },
     "output_type": "display_data"
    }
   ],
   "source": [
    "sns.lineplot(data=type_log, x=\"DEPT\", y=\"GR\", color='green');"
   ]
  },
  {
   "cell_type": "code",
   "execution_count": 22,
   "metadata": {},
   "outputs": [
    {
     "data": {
      "image/png": "[encoded data removed]",
      "text/plain": [
       "<Figure size 432x288 with 1 Axes>"
      ]
     },
     "metadata": {
      "needs_background": "light"
     },
     "output_type": "display_data"
    }
   ],
   "source": [
    "sns.lineplot(data=type_log, x=\"DEPT\", y=\"DPHI\");"
   ]
  },
  {
   "cell_type": "code",
   "execution_count": 23,
   "metadata": {},
   "outputs": [
    {
     "data": {
      "image/png": "[encoded data removed]",
      "text/plain": [
       "<Figure size 432x288 with 1 Axes>"
      ]
     },
     "metadata": {
      "needs_background": "light"
     },
     "output_type": "display_data"
    }
   ],
   "source": [
    "sns.lineplot(data=type_log, x=\"DEPT\", y='ILD', color='orange');"
   ]
  },
  {
   "cell_type": "markdown",
   "metadata": {},
   "source": [
    "### K Nearest Neighbors"
   ]
  },
  {
   "cell_type": "code",
   "execution_count": 24,
   "metadata": {},
   "outputs": [],
   "source": [
    "type_log = type_log.dropna()"
   ]
  },
  {
   "cell_type": "code",
   "execution_count": 25,
   "metadata": {},
   "outputs": [
    {
     "data": {
      "text/plain": [
       "DEPT         0\n",
       "DPHI         0\n",
       "GR           0\n",
       "ILD          0\n",
       "FORMATION    0\n",
       "dtype: int64"
      ]
     },
     "execution_count": 25,
     "metadata": {},
     "output_type": "execute_result"
    }
   ],
   "source": [
    "type_log.isnull().sum()"
   ]
  },
  {
   "cell_type": "code",
   "execution_count": 26,
   "metadata": {},
   "outputs": [],
   "source": [
    "X = type_log.drop(columns='FORMATION', axis=1)\n",
    "y = type_log.FORMATION\n",
    "ss = StandardScaler().fit(X)\n",
    "X_sc = ss.transform(X)\n",
    "X_train, X_test, y_train, y_test = train_test_split(X_sc,y)"
   ]
  },
  {
   "cell_type": "code",
   "execution_count": 27,
   "metadata": {},
   "outputs": [
    {
     "data": {
      "text/plain": [
       "KNeighborsClassifier(n_neighbors=3)"
      ]
     },
     "execution_count": 27,
     "metadata": {},
     "output_type": "execute_result"
    }
   ],
   "source": [
    "knn = KNeighborsClassifier(n_neighbors=3)\n",
    "knn.fit(X_train, y_train)"
   ]
  },
  {
   "cell_type": "code",
   "execution_count": 28,
   "metadata": {},
   "outputs": [
    {
     "data": {
      "text/plain": [
       "0.9842209072978304"
      ]
     },
     "execution_count": 28,
     "metadata": {},
     "output_type": "execute_result"
    }
   ],
   "source": [
    "knn.score(X_train,y_train)"
   ]
  },
  {
   "cell_type": "code",
   "execution_count": 29,
   "metadata": {},
   "outputs": [
    {
     "data": {
      "text/plain": [
       "0.9763313609467456"
      ]
     },
     "execution_count": 29,
     "metadata": {},
     "output_type": "execute_result"
    }
   ],
   "source": [
    "knn.score(X_test, y_test)"
   ]
  },
  {
   "cell_type": "code",
   "execution_count": 30,
   "metadata": {},
   "outputs": [],
   "source": [
    "preds = knn.predict(X_test)"
   ]
  },
  {
   "cell_type": "code",
   "execution_count": 31,
   "metadata": {},
   "outputs": [
    {
     "data": {
      "image/png": "[encoded data removed]",
      "text/plain": [
       "<Figure size 432x288 with 2 Axes>"
      ]
     },
     "metadata": {
      "needs_background": "light"
     },
     "output_type": "display_data"
    }
   ],
   "source": [
    "plot_confusion_matrix(knn, X_test, y_test);"
   ]
  },
  {
   "cell_type": "markdown",
   "metadata": {},
   "source": [
    "### Random Forest"
   ]
  },
  {
   "cell_type": "code",
   "execution_count": 32,
   "metadata": {},
   "outputs": [
    {
     "data": {
      "text/plain": [
       "RandomForestClassifier(min_samples_leaf=3)"
      ]
     },
     "execution_count": 32,
     "metadata": {},
     "output_type": "execute_result"
    }
   ],
   "source": [
    "rfc = RandomForestClassifier(min_samples_leaf=3)\n",
    "rfc.fit(X_train, y_train)"
   ]
  },
  {
   "cell_type": "code",
   "execution_count": 33,
   "metadata": {},
   "outputs": [
    {
     "data": {
      "text/plain": [
       "1.0"
      ]
     },
     "execution_count": 33,
     "metadata": {},
     "output_type": "execute_result"
    }
   ],
   "source": [
    "rfc.score(X_train,y_train)"
   ]
  },
  {
   "cell_type": "code",
   "execution_count": 34,
   "metadata": {},
   "outputs": [
    {
     "data": {
      "text/plain": [
       "1.0"
      ]
     },
     "execution_count": 34,
     "metadata": {},
     "output_type": "execute_result"
    }
   ],
   "source": [
    "rfc.score(X_test, y_test)"
   ]
  },
  {
   "cell_type": "code",
   "execution_count": 35,
   "metadata": {},
   "outputs": [],
   "source": [
    "preds = rfc.predict(X_test)"
   ]
  },
  {
   "cell_type": "code",
   "execution_count": 36,
   "metadata": {
    "scrolled": true
   },
   "outputs": [
    {
     "data": {
      "image/png": "[encoded data removed]",
      "text/plain": [
       "<Figure size 432x288 with 2 Axes>"
      ]
     },
     "metadata": {
      "needs_background": "light"
     },
     "output_type": "display_data"
    }
   ],
   "source": [
    "plot_confusion_matrix(rfc, X_test, y_test);"
   ]
  },
  {
   "cell_type": "code",
   "execution_count": 37,
   "metadata": {
    "scrolled": true
   },
   "outputs": [
    {
     "data": {
      "text/plain": [
       "array([1, 1, 4, 1, 1, 1, 1, 1, 4, 3, 1, 4, 1, 4, 4, 1, 4, 1, 4, 3, 1, 1,\n",
       "       1, 1, 4, 1, 4, 4, 1, 1, 3, 3, 2, 1, 1, 3, 1, 3, 4, 2, 1, 3, 3, 3,\n",
       "       1, 4, 1, 4, 1, 1, 2, 1, 1, 1, 1, 1, 1, 1, 4, 1, 4, 2, 4, 1, 4, 3,\n",
       "       1, 4, 4, 1, 3, 1, 3, 1, 4, 1, 1, 4, 1, 1, 1, 4, 4, 3, 1, 1, 1, 3,\n",
       "       4, 1, 1, 1, 1, 1, 3, 1, 1, 2, 1, 3, 1, 1, 1, 1, 4, 1, 1, 1, 1, 1,\n",
       "       4, 4, 1, 3, 1, 2, 4, 4, 4, 1, 3, 1, 4, 4, 3, 2, 3, 1, 1, 3, 4, 1,\n",
       "       4, 1, 4, 1, 4, 1, 1, 4, 4, 2, 1, 1, 1, 1, 1, 1, 3, 1, 4, 4, 1, 1,\n",
       "       1, 1, 2, 1, 1, 4, 3, 1, 1, 1, 1, 2, 1, 1, 3, 1, 1, 1, 3, 4, 2, 4,\n",
       "       1, 2, 1, 2, 1, 4, 1, 1, 4, 1, 1, 1, 4, 3, 1, 1, 1, 1, 3, 1, 1, 1,\n",
       "       1, 1, 1, 1, 1, 1, 4, 3, 1, 4, 1, 2, 3, 3, 1, 1, 3, 1, 4, 4, 4, 3,\n",
       "       4, 3, 1, 1, 3, 1, 1, 1, 1, 1, 3, 4, 1, 3, 4, 1, 1, 4, 4, 4, 2, 1,\n",
       "       3, 1, 1, 3, 4, 3, 1, 4, 1, 4, 1, 3, 3, 3, 1, 1, 1, 1, 4, 1, 3, 3,\n",
       "       1, 1, 1, 1, 1, 4, 4, 4, 1, 3, 1, 1, 3, 4, 3, 4, 4, 4, 4, 1, 2, 2,\n",
       "       4, 4, 4, 3, 2, 1, 3, 1, 1, 1, 3, 4, 1, 4, 1, 2, 1, 4, 1, 3, 1, 1,\n",
       "       3, 1, 1, 2, 4, 1, 3, 1, 3, 1, 3, 2, 3, 1, 2, 1, 4, 3, 4, 4, 1, 4,\n",
       "       1, 1, 1, 1, 4, 3, 1, 3])"
      ]
     },
     "execution_count": 37,
     "metadata": {},
     "output_type": "execute_result"
    }
   ],
   "source": [
    "preds"
   ]
  },
  {
   "cell_type": "markdown",
   "metadata": {},
   "source": [
    "# Future Improvements"
   ]
  },
  {
   "cell_type": "markdown",
   "metadata": {},
   "source": [
    "There is a lot of potential for this idea, and more work to be done.  First off, I would like to make a dashboard which would provide a user friendly platform for users to upload their type logs and view the results.  Since there are so many different oil/fields in different types of rock around the nation, I would also like to add a drop down menu so you could select which field you are working in.  My above example only represents one oil/field it would be great for this product to be used for numerous different areas.  Another idea for the dashboard would be to include Density Porosity and Resistivity measurements which could help a client quickly decide whether an area is worth pursuing."
   ]
  },
  {
   "cell_type": "markdown",
   "metadata": {},
   "source": [
    "# Conclusion"
   ]
  },
  {
   "cell_type": "markdown",
   "metadata": {},
   "source": [
    "All models performed with a high level of accuracy and minimized false positives and negatives. Random Forest Classifier was chosen as the production model due to its near perfect classification of the data set."
   ]
  },
  {
   "cell_type": "markdown",
   "metadata": {},
   "source": [
    "# Sources"
   ]
  },
  {
   "cell_type": "markdown",
   "metadata": {},
   "source": [
    "https://en.wikipedia.org/wiki/Gamma_ray_logging\n",
    "\n",
    "https://en.wikipedia.org/wiki/Porosity\n",
    "\n",
    "https://en.wikipedia.org/wiki/Resistivity_logging"
   ]
  }
 ],
 "metadata": {
  "kernelspec": {
   "display_name": "Python 3",
   "language": "python",
   "name": "python3"
  },
  "language_info": {
   "codemirror_mode": {
    "name": "ipython",
    "version": 3
   },
   "file_extension": ".py",
   "mimetype": "text/x-python",
   "name": "python",
   "nbconvert_exporter": "python",
   "pygments_lexer": "ipython3",
   "version": "3.8.5"
  }
 },
 "nbformat": 4,
 "nbformat_minor": 4
}
